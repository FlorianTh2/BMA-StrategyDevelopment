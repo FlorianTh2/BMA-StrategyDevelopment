{
 "cells": [
  {
   "cell_type": "code",
   "execution_count": 13,
   "metadata": {},
   "outputs": [],
   "source": [
    "import ctypes\n",
    "from ctypes import wintypes\n",
    "import time\n",
    "import pyautogui\n",
    "import keyboard\n",
    "pyautogui.PAUSE = 0"
   ]
  },
  {
   "cell_type": "code",
   "execution_count": 14,
   "metadata": {},
   "outputs": [],
   "source": [
    "user32 = ctypes.WinDLL('user32', use_last_error=True)"
   ]
  },
  {
   "cell_type": "code",
   "execution_count": 15,
   "metadata": {},
   "outputs": [],
   "source": [
    "INPUT_MOUSE    = 0\n",
    "INPUT_KEYBOARD = 1\n",
    "INPUT_HARDWARE = 2"
   ]
  },
  {
   "cell_type": "code",
   "execution_count": 16,
   "metadata": {},
   "outputs": [],
   "source": [
    "KEYEVENTF_EXTENDEDKEY = 0x0001\n",
    "KEYEVENTF_KEYUP       = 0x0002\n",
    "KEYEVENTF_UNICODE     = 0x0004\n",
    "KEYEVENTF_SCANCODE    = 0x0008"
   ]
  },
  {
   "cell_type": "code",
   "execution_count": 17,
   "metadata": {},
   "outputs": [],
   "source": [
    "MAPVK_VK_TO_VSC = 0"
   ]
  },
  {
   "cell_type": "code",
   "execution_count": 18,
   "metadata": {},
   "outputs": [],
   "source": [
    "# msdn.microsoft.com/en-us/library/dd375731\n",
    "VK_TAB  = 0x09\n",
    "VK_MENU = 0x12\n",
    "VK_ENTER = 0x0D\n",
    "VK_SPACE = 0x20"
   ]
  },
  {
   "cell_type": "code",
   "execution_count": 19,
   "metadata": {},
   "outputs": [],
   "source": [
    "# C struct definitions\n",
    "\n",
    "wintypes.ULONG_PTR = wintypes.WPARAM\n",
    "\n",
    "class MOUSEINPUT(ctypes.Structure):\n",
    "    _fields_ = ((\"dx\",          wintypes.LONG),\n",
    "                (\"dy\",          wintypes.LONG),\n",
    "                (\"mouseData\",   wintypes.DWORD),\n",
    "                (\"dwFlags\",     wintypes.DWORD),\n",
    "                (\"time\",        wintypes.DWORD),\n",
    "                (\"dwExtraInfo\", wintypes.ULONG_PTR))\n",
    "\n",
    "class KEYBDINPUT(ctypes.Structure):\n",
    "    _fields_ = ((\"wVk\",         wintypes.WORD),\n",
    "                (\"wScan\",       wintypes.WORD),\n",
    "                (\"dwFlags\",     wintypes.DWORD),\n",
    "                (\"time\",        wintypes.DWORD),\n",
    "                (\"dwExtraInfo\", wintypes.ULONG_PTR))\n",
    "\n",
    "    def __init__(self, *args, **kwds):\n",
    "        super(KEYBDINPUT, self).__init__(*args, **kwds)\n",
    "        # some programs use the scan code even if KEYEVENTF_SCANCODE\n",
    "        # isn't set in dwFflags, so attempt to map the correct code.\n",
    "        if not self.dwFlags & KEYEVENTF_UNICODE:\n",
    "            self.wScan = user32.MapVirtualKeyExW(self.wVk,\n",
    "                                                 MAPVK_VK_TO_VSC, 0)\n",
    "\n",
    "class HARDWAREINPUT(ctypes.Structure):\n",
    "    _fields_ = ((\"uMsg\",    wintypes.DWORD),\n",
    "                (\"wParamL\", wintypes.WORD),\n",
    "                (\"wParamH\", wintypes.WORD))\n",
    "\n",
    "class INPUT(ctypes.Structure):\n",
    "    class _INPUT(ctypes.Union):\n",
    "        _fields_ = ((\"ki\", KEYBDINPUT),\n",
    "                    (\"mi\", MOUSEINPUT),\n",
    "                    (\"hi\", HARDWAREINPUT))\n",
    "    _anonymous_ = (\"_input\",)\n",
    "    _fields_ = ((\"type\",   wintypes.DWORD),\n",
    "                (\"_input\", _INPUT))\n",
    "\n",
    "LPINPUT = ctypes.POINTER(INPUT)\n",
    "\n",
    "def _check_count(result, func, args):\n",
    "    if result == 0:\n",
    "        raise ctypes.WinError(ctypes.get_last_error())\n",
    "    return args\n",
    "\n",
    "user32.SendInput.errcheck = _check_count\n",
    "user32.SendInput.argtypes = (wintypes.UINT, # nInputs\n",
    "                             LPINPUT,       # pInputs\n",
    "                             ctypes.c_int)  # cbSize"
   ]
  },
  {
   "cell_type": "code",
   "execution_count": 20,
   "metadata": {},
   "outputs": [],
   "source": [
    "# Functions\n",
    "\n",
    "def PressKey(hexKeyCode):\n",
    "    x = INPUT(type=INPUT_KEYBOARD,\n",
    "              ki=KEYBDINPUT(wVk=hexKeyCode))\n",
    "    user32.SendInput(1, ctypes.byref(x), ctypes.sizeof(x))\n",
    "\n",
    "def ReleaseKey(hexKeyCode):\n",
    "    x = INPUT(type=INPUT_KEYBOARD,\n",
    "              ki=KEYBDINPUT(wVk=hexKeyCode,\n",
    "                            dwFlags=KEYEVENTF_KEYUP))\n",
    "    user32.SendInput(1, ctypes.byref(x), ctypes.sizeof(x))"
   ]
  },
  {
   "cell_type": "code",
   "execution_count": 21,
   "metadata": {},
   "outputs": [],
   "source": [
    "def AltTab():\n",
    "    \"\"\"Press Alt+Tab and hold Alt key for 2 seconds\n",
    "    in order to see the overlay.\n",
    "    \"\"\"\n",
    "    PressKey(VK_MENU)   # Alt\n",
    "    PressKey(VK_TAB)    # Tab\n",
    "    ReleaseKey(VK_TAB)  # Tab~\n",
    "    time.sleep(2)\n",
    "    ReleaseKey(VK_MENU) # Alt~"
   ]
  },
  {
   "cell_type": "code",
   "execution_count": 22,
   "metadata": {},
   "outputs": [],
   "source": [
    "def Enter(key):\n",
    "    PressKey(key)\n",
    "    ReleaseKey(key)"
   ]
  },
  {
   "cell_type": "code",
   "execution_count": 23,
   "metadata": {},
   "outputs": [],
   "source": [
    "def enter_loop(key):\n",
    "    while True:\n",
    "        if keyboard.is_pressed('w') == True:\n",
    "            Enter(key) # VK_ENTER, VK_SPACE\n",
    "#             time.sleep(0.0000001)"
   ]
  },
  {
   "cell_type": "code",
   "execution_count": 24,
   "metadata": {},
   "outputs": [
    {
     "ename": "KeyboardInterrupt",
     "evalue": "",
     "output_type": "error",
     "traceback": [
      "\u001b[1;31m---------------------------------------------------------------------------\u001b[0m",
      "\u001b[1;31mKeyboardInterrupt\u001b[0m                         Traceback (most recent call last)",
      "\u001b[1;32m<ipython-input-24-1b9452c20887>\u001b[0m in \u001b[0;36m<module>\u001b[1;34m\u001b[0m\n\u001b[1;32m----> 1\u001b[1;33m \u001b[0menter_loop\u001b[0m\u001b[1;33m(\u001b[0m\u001b[0mVK_ENTER\u001b[0m\u001b[1;33m)\u001b[0m\u001b[1;33m\u001b[0m\u001b[1;33m\u001b[0m\u001b[0m\n\u001b[0m",
      "\u001b[1;32m<ipython-input-23-f53befc48442>\u001b[0m in \u001b[0;36menter_loop\u001b[1;34m(key)\u001b[0m\n\u001b[0;32m      1\u001b[0m \u001b[1;32mdef\u001b[0m \u001b[0menter_loop\u001b[0m\u001b[1;33m(\u001b[0m\u001b[0mkey\u001b[0m\u001b[1;33m)\u001b[0m\u001b[1;33m:\u001b[0m\u001b[1;33m\u001b[0m\u001b[1;33m\u001b[0m\u001b[0m\n\u001b[0;32m      2\u001b[0m     \u001b[1;32mwhile\u001b[0m \u001b[1;32mTrue\u001b[0m\u001b[1;33m:\u001b[0m\u001b[1;33m\u001b[0m\u001b[1;33m\u001b[0m\u001b[0m\n\u001b[1;32m----> 3\u001b[1;33m         \u001b[1;32mif\u001b[0m \u001b[0mkeyboard\u001b[0m\u001b[1;33m.\u001b[0m\u001b[0mis_pressed\u001b[0m\u001b[1;33m(\u001b[0m\u001b[1;34m'w'\u001b[0m\u001b[1;33m)\u001b[0m \u001b[1;33m==\u001b[0m \u001b[1;32mTrue\u001b[0m\u001b[1;33m:\u001b[0m\u001b[1;33m\u001b[0m\u001b[1;33m\u001b[0m\u001b[0m\n\u001b[0m\u001b[0;32m      4\u001b[0m             \u001b[0mEnter\u001b[0m\u001b[1;33m(\u001b[0m\u001b[0mkey\u001b[0m\u001b[1;33m)\u001b[0m \u001b[1;31m# VK_ENTER, VK_SPACE\u001b[0m\u001b[1;33m\u001b[0m\u001b[1;33m\u001b[0m\u001b[0m\n\u001b[0;32m      5\u001b[0m \u001b[1;31m#             time.sleep(0.0000001)\u001b[0m\u001b[1;33m\u001b[0m\u001b[1;33m\u001b[0m\u001b[1;33m\u001b[0m\u001b[0m\n",
      "\u001b[1;32m~\\anaconda3\\lib\\site-packages\\keyboard\\__init__.py\u001b[0m in \u001b[0;36mis_pressed\u001b[1;34m(hotkey)\u001b[0m\n\u001b[0;32m    415\u001b[0m             \u001b[1;32mreturn\u001b[0m \u001b[0mhotkey\u001b[0m \u001b[1;32min\u001b[0m \u001b[0m_pressed_events\u001b[0m\u001b[1;33m\u001b[0m\u001b[1;33m\u001b[0m\u001b[0m\n\u001b[0;32m    416\u001b[0m \u001b[1;33m\u001b[0m\u001b[0m\n\u001b[1;32m--> 417\u001b[1;33m     \u001b[0msteps\u001b[0m \u001b[1;33m=\u001b[0m \u001b[0mparse_hotkey\u001b[0m\u001b[1;33m(\u001b[0m\u001b[0mhotkey\u001b[0m\u001b[1;33m)\u001b[0m\u001b[1;33m\u001b[0m\u001b[1;33m\u001b[0m\u001b[0m\n\u001b[0m\u001b[0;32m    418\u001b[0m     \u001b[1;32mif\u001b[0m \u001b[0mlen\u001b[0m\u001b[1;33m(\u001b[0m\u001b[0msteps\u001b[0m\u001b[1;33m)\u001b[0m \u001b[1;33m>\u001b[0m \u001b[1;36m1\u001b[0m\u001b[1;33m:\u001b[0m\u001b[1;33m\u001b[0m\u001b[1;33m\u001b[0m\u001b[0m\n\u001b[0;32m    419\u001b[0m         \u001b[1;32mraise\u001b[0m \u001b[0mValueError\u001b[0m\u001b[1;33m(\u001b[0m\u001b[1;34m\"Impossible to check if multi-step hotkeys are pressed (`a+b` is ok, `a, b` isn't).\"\u001b[0m\u001b[1;33m)\u001b[0m\u001b[1;33m\u001b[0m\u001b[1;33m\u001b[0m\u001b[0m\n",
      "\u001b[1;32m~\\anaconda3\\lib\\site-packages\\keyboard\\__init__.py\u001b[0m in \u001b[0;36mparse_hotkey\u001b[1;34m(hotkey)\u001b[0m\n\u001b[0;32m    342\u001b[0m     \"\"\"\n\u001b[0;32m    343\u001b[0m     \u001b[1;32mif\u001b[0m \u001b[0m_is_number\u001b[0m\u001b[1;33m(\u001b[0m\u001b[0mhotkey\u001b[0m\u001b[1;33m)\u001b[0m \u001b[1;32mor\u001b[0m \u001b[0mlen\u001b[0m\u001b[1;33m(\u001b[0m\u001b[0mhotkey\u001b[0m\u001b[1;33m)\u001b[0m \u001b[1;33m==\u001b[0m \u001b[1;36m1\u001b[0m\u001b[1;33m:\u001b[0m\u001b[1;33m\u001b[0m\u001b[1;33m\u001b[0m\u001b[0m\n\u001b[1;32m--> 344\u001b[1;33m         \u001b[0mscan_codes\u001b[0m \u001b[1;33m=\u001b[0m \u001b[0mkey_to_scan_codes\u001b[0m\u001b[1;33m(\u001b[0m\u001b[0mhotkey\u001b[0m\u001b[1;33m)\u001b[0m\u001b[1;33m\u001b[0m\u001b[1;33m\u001b[0m\u001b[0m\n\u001b[0m\u001b[0;32m    345\u001b[0m         \u001b[0mstep\u001b[0m \u001b[1;33m=\u001b[0m \u001b[1;33m(\u001b[0m\u001b[0mscan_codes\u001b[0m\u001b[1;33m,\u001b[0m\u001b[1;33m)\u001b[0m\u001b[1;33m\u001b[0m\u001b[1;33m\u001b[0m\u001b[0m\n\u001b[0;32m    346\u001b[0m         \u001b[0msteps\u001b[0m \u001b[1;33m=\u001b[0m \u001b[1;33m(\u001b[0m\u001b[0mstep\u001b[0m\u001b[1;33m,\u001b[0m\u001b[1;33m)\u001b[0m\u001b[1;33m\u001b[0m\u001b[1;33m\u001b[0m\u001b[0m\n",
      "\u001b[1;32m~\\anaconda3\\lib\\site-packages\\keyboard\\__init__.py\u001b[0m in \u001b[0;36mkey_to_scan_codes\u001b[1;34m(key, error_if_missing)\u001b[0m\n\u001b[0;32m    315\u001b[0m     \u001b[1;32mtry\u001b[0m\u001b[1;33m:\u001b[0m\u001b[1;33m\u001b[0m\u001b[1;33m\u001b[0m\u001b[0m\n\u001b[0;32m    316\u001b[0m         \u001b[1;31m# Put items in ordered dict to remove duplicates.\u001b[0m\u001b[1;33m\u001b[0m\u001b[1;33m\u001b[0m\u001b[1;33m\u001b[0m\u001b[0m\n\u001b[1;32m--> 317\u001b[1;33m         \u001b[0mt\u001b[0m \u001b[1;33m=\u001b[0m \u001b[0mtuple\u001b[0m\u001b[1;33m(\u001b[0m\u001b[0m_collections\u001b[0m\u001b[1;33m.\u001b[0m\u001b[0mOrderedDict\u001b[0m\u001b[1;33m(\u001b[0m\u001b[1;33m(\u001b[0m\u001b[0mscan_code\u001b[0m\u001b[1;33m,\u001b[0m \u001b[1;32mTrue\u001b[0m\u001b[1;33m)\u001b[0m \u001b[1;32mfor\u001b[0m \u001b[0mscan_code\u001b[0m\u001b[1;33m,\u001b[0m \u001b[0mmodifier\u001b[0m \u001b[1;32min\u001b[0m \u001b[0m_os_keyboard\u001b[0m\u001b[1;33m.\u001b[0m\u001b[0mmap_name\u001b[0m\u001b[1;33m(\u001b[0m\u001b[0mnormalized\u001b[0m\u001b[1;33m)\u001b[0m\u001b[1;33m)\u001b[0m\u001b[1;33m)\u001b[0m\u001b[1;33m\u001b[0m\u001b[1;33m\u001b[0m\u001b[0m\n\u001b[0m\u001b[0;32m    318\u001b[0m         \u001b[0me\u001b[0m \u001b[1;33m=\u001b[0m \u001b[1;32mNone\u001b[0m\u001b[1;33m\u001b[0m\u001b[1;33m\u001b[0m\u001b[0m\n\u001b[0;32m    319\u001b[0m     \u001b[1;32mexcept\u001b[0m \u001b[1;33m(\u001b[0m\u001b[0mKeyError\u001b[0m\u001b[1;33m,\u001b[0m \u001b[0mValueError\u001b[0m\u001b[1;33m)\u001b[0m \u001b[1;32mas\u001b[0m \u001b[0mexception\u001b[0m\u001b[1;33m:\u001b[0m\u001b[1;33m\u001b[0m\u001b[1;33m\u001b[0m\u001b[0m\n",
      "\u001b[1;32m~\\anaconda3\\lib\\site-packages\\keyboard\\__init__.py\u001b[0m in \u001b[0;36m<genexpr>\u001b[1;34m(.0)\u001b[0m\n\u001b[0;32m    315\u001b[0m     \u001b[1;32mtry\u001b[0m\u001b[1;33m:\u001b[0m\u001b[1;33m\u001b[0m\u001b[1;33m\u001b[0m\u001b[0m\n\u001b[0;32m    316\u001b[0m         \u001b[1;31m# Put items in ordered dict to remove duplicates.\u001b[0m\u001b[1;33m\u001b[0m\u001b[1;33m\u001b[0m\u001b[1;33m\u001b[0m\u001b[0m\n\u001b[1;32m--> 317\u001b[1;33m         \u001b[0mt\u001b[0m \u001b[1;33m=\u001b[0m \u001b[0mtuple\u001b[0m\u001b[1;33m(\u001b[0m\u001b[0m_collections\u001b[0m\u001b[1;33m.\u001b[0m\u001b[0mOrderedDict\u001b[0m\u001b[1;33m(\u001b[0m\u001b[1;33m(\u001b[0m\u001b[0mscan_code\u001b[0m\u001b[1;33m,\u001b[0m \u001b[1;32mTrue\u001b[0m\u001b[1;33m)\u001b[0m \u001b[1;32mfor\u001b[0m \u001b[0mscan_code\u001b[0m\u001b[1;33m,\u001b[0m \u001b[0mmodifier\u001b[0m \u001b[1;32min\u001b[0m \u001b[0m_os_keyboard\u001b[0m\u001b[1;33m.\u001b[0m\u001b[0mmap_name\u001b[0m\u001b[1;33m(\u001b[0m\u001b[0mnormalized\u001b[0m\u001b[1;33m)\u001b[0m\u001b[1;33m)\u001b[0m\u001b[1;33m)\u001b[0m\u001b[1;33m\u001b[0m\u001b[1;33m\u001b[0m\u001b[0m\n\u001b[0m\u001b[0;32m    318\u001b[0m         \u001b[0me\u001b[0m \u001b[1;33m=\u001b[0m \u001b[1;32mNone\u001b[0m\u001b[1;33m\u001b[0m\u001b[1;33m\u001b[0m\u001b[0m\n\u001b[0;32m    319\u001b[0m     \u001b[1;32mexcept\u001b[0m \u001b[1;33m(\u001b[0m\u001b[0mKeyError\u001b[0m\u001b[1;33m,\u001b[0m \u001b[0mValueError\u001b[0m\u001b[1;33m)\u001b[0m \u001b[1;32mas\u001b[0m \u001b[0mexception\u001b[0m\u001b[1;33m:\u001b[0m\u001b[1;33m\u001b[0m\u001b[1;33m\u001b[0m\u001b[0m\n",
      "\u001b[1;31mKeyboardInterrupt\u001b[0m: "
     ]
    }
   ],
   "source": [
    "enter_loop(VK_ENTER)"
   ]
  },
  {
   "cell_type": "code",
   "execution_count": null,
   "metadata": {},
   "outputs": [],
   "source": []
  }
 ],
 "metadata": {
  "kernelspec": {
   "display_name": "Python 3",
   "language": "python",
   "name": "python3"
  },
  "language_info": {
   "codemirror_mode": {
    "name": "ipython",
    "version": 3
   },
   "file_extension": ".py",
   "mimetype": "text/x-python",
   "name": "python",
   "nbconvert_exporter": "python",
   "pygments_lexer": "ipython3",
   "version": "3.8.5"
  }
 },
 "nbformat": 4,
 "nbformat_minor": 4
}
