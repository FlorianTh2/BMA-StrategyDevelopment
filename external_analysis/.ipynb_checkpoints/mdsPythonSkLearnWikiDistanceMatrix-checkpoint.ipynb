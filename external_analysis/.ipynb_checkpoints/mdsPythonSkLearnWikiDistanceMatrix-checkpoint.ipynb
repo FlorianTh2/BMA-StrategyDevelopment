{
 "cells": [
  {
   "cell_type": "code",
   "execution_count": 1,
   "metadata": {},
   "outputs": [
    {
     "data": {
      "text/plain": [
       "'0.23.2'"
      ]
     },
     "execution_count": 1,
     "metadata": {},
     "output_type": "execute_result"
    }
   ],
   "source": [
    "import sklearn\n",
    "from sklearn import manifold\n",
    "from sklearn import datasets\n",
    "from sklearn.metrics.pairwise import euclidean_distances\n",
    "from sklearn.utils.extmath import safe_sparse_dot\n",
    "import numpy as np\n",
    "import matplotlib\n",
    "from matplotlib import pyplot as plt\n",
    "from matplotlib.collections import LineCollection\n",
    "matplotlib.__version__\n",
    "np.__version__\n",
    "sklearn.__version__"
   ]
  },
  {
   "cell_type": "code",
   "execution_count": 2,
   "metadata": {},
   "outputs": [],
   "source": [
    "# data = [[0,548,289,576,586], [548,0,493,195,392], [289,493,0,427,776], [576,195,427,0,577], [586, 392, 776,577,0]]"
   ]
  },
  {
   "cell_type": "code",
   "execution_count": 22,
   "metadata": {},
   "outputs": [],
   "source": [
    "#data = [[100, 0, 100, 0, 50, 50],[100, 0, 0, 100, 100, 0],[0, 100, 100, 0, 100, 0]]\n",
    "data = [ \\\n",
    "    [10,18,18,52,2,0,0,0,0,100,16,16,36,16,16,0,0,98,0,2,44,14,14,14,14], \\\n",
    "    [10.0946,5.67,18,52.365,13.564,0,16.403,16.403,67.192,0,19.242,19.242,23.028,19.242,19.242,10.7255,10.725,62.776,6.624,9.148,33.438,15.457,17.034,17.034,17.034], \\\n",
    "    [67.329,11.363,11.363,0,9.943,66.76,11.079,11.079,5.39,5.681,14.77,14.77,40.909,14.772,14.772,19.034,19.034,36.079,9.94,15.909,32.67,14.48,17.61,17.61,17.61], \\\n",
    "    [0,0.49,0,98.039,1.470,0,25,25,1.960,48.039,17.156,17.156,31.372,17.15,17.51,21.56,21.078,0,39.705,17.64,30.39,14.7,18.137,18.627,18.13], \\\n",
    "    [17.746,22.4278,26.83,4.7,28.19,13.33,24.93,24.93,13.28,23.51,21.55,21.55,13.77,21.55,21.55,23.4,23.4,10.887,23.843,18.399,14.497,17.583,22.59,22.53,22.59]]\n",
    "data_true = np.array(data)\n",
    "data_true.shape"
   ]
  },
  {
   "cell_type": "code",
   "execution_count": 24,
   "metadata": {},
   "outputs": [
    {
     "data": {
      "text/plain": [
       "array([[  0.        , 131.36267158, 157.53797337, 139.31068338,\n",
       "        147.54915671],\n",
       "       [131.36267158,   0.        , 125.62852619, 121.77139511,\n",
       "        103.16795292],\n",
       "       [157.53797337, 125.62852619,   0.        , 153.09457234,\n",
       "         94.86863623],\n",
       "       [139.31068338, 121.77139511, 153.09457234,   0.        ,\n",
       "        113.70637518],\n",
       "       [147.54915671, 103.16795292,  94.86863623, 113.70637518,\n",
       "          0.        ]])"
      ]
     },
     "execution_count": 24,
     "metadata": {},
     "output_type": "execute_result"
    }
   ],
   "source": [
    "euclidean_distances(data_true)"
   ]
  },
  {
   "cell_type": "code",
   "execution_count": 2,
   "metadata": {},
   "outputs": [],
   "source": [
    "# https://www.dabblingbadger.com/blog/2020/2/27/implementing-euclidean-distance-matrix-calculations-from-scratch-in-python\n",
    "# http://nonconditional.com/2014/04/on-the-trick-for-computing-the-squared-euclidian-distances-between-two-sets-of-vectors/\n",
    "# In general, for any distance matrix between two matrices of size M x K and N x K, the size of the new matrix is M x N.\n",
    "# distance_matrix_creating in scikit: https://github.com/scikit-learn/scikit-learn/blob/2beed5584/sklearn/manifold/_mds.py#L279\n",
    "# it is automaticly created if the input matrix is not symmetric (hidden creation)\n",
    "def distance_matrix(A, B, squared=False):\n",
    "    \"\"\"\n",
    "    Compute all pairwise distances between vectors in A and B.\n",
    "\n",
    "    Parameters\n",
    "    ----------\n",
    "    A : np.array\n",
    "        shape should be (M, K)\n",
    "    B : np.array\n",
    "        shape should be (N, K)\n",
    "\n",
    "    Returns\n",
    "    -------\n",
    "    D : np.array\n",
    "        A matrix D of shape (M, N).  Each entry in D i,j represnets the\n",
    "        distance between row i in A and row j in B.\n",
    "\n",
    "    See also\n",
    "    --------\n",
    "    A more generalized version of the distance matrix is available from\n",
    "    scipy (https://www.scipy.org) using scipy.spatial.distance_matrix,\n",
    "    which also gives a choice for p-norm.\n",
    "    \"\"\"\n",
    "    M = A.shape[0]\n",
    "    N = B.shape[0]\n",
    "\n",
    "    assert A.shape[1] == B.shape[1], f\"The number of components for vectors in A \\\n",
    "        {A.shape[1]} does not match that of B {B.shape[1]}!\"\n",
    "\n",
    "    A_dots = (A*A).sum(axis=1).reshape((M,1))*np.ones(shape=(1,N))\n",
    "    b_tmp = (B*B).sum(axis=1)\n",
    "    # got rewritten to: (data_true*data_true).sum(axis=1).reshape((M,1)).dot(np.ones(shape=(1,M))).T\n",
    "    # (is equivalent but easier to implement)\n",
    "    B_dots = b_tmp*np.ones(shape=(M,1))\n",
    "    D_squared =  A_dots + B_dots -2*A.dot(B.T)\n",
    "\n",
    "    if squared == False:\n",
    "        zero_mask = np.less(D_squared, 0.0)\n",
    "        D_squared[zero_mask] = 0.0\n",
    "        return np.sqrt(D_squared)\n",
    "\n",
    "    return D_squared"
   ]
  },
  {
   "cell_type": "code",
   "execution_count": 26,
   "metadata": {},
   "outputs": [],
   "source": [
    "distanceMatrix = distance_matrix(data_true, data_true)"
   ]
  },
  {
   "cell_type": "code",
   "execution_count": 27,
   "metadata": {},
   "outputs": [],
   "source": [
    "def elementwise_multiplication(matrix0, matrix1):\n",
    "    result = []\n",
    "    for a in range(matrix0.shape[0]):\n",
    "        vector = []\n",
    "        for b in range(matrix0.shape[1]):\n",
    "            vector.append(matrix0[a][b] * matrix1[a][b])\n",
    "        result.append(vector)\n",
    "    return result"
   ]
  },
  {
   "cell_type": "code",
   "execution_count": 28,
   "metadata": {},
   "outputs": [],
   "source": [
    "def elementwise_multiplication_with_factor(matrix0, factor):\n",
    "    result = []\n",
    "    for a in range(matrix0.shape[0]):\n",
    "        vector = []\n",
    "        for b in range(matrix0.shape[1]):\n",
    "            vector.append(matrix0[a][b] * factor)\n",
    "        result.append(vector)\n",
    "    return result"
   ]
  },
  {
   "cell_type": "code",
   "execution_count": 29,
   "metadata": {},
   "outputs": [],
   "source": [
    "def rows_sum(matrix0):\n",
    "    result = []\n",
    "    for a in matrix0:\n",
    "        acc = 0\n",
    "        for b in a:\n",
    "            acc += b\n",
    "        result.append(acc)\n",
    "    return result"
   ]
  },
  {
   "cell_type": "code",
   "execution_count": 30,
   "metadata": {},
   "outputs": [],
   "source": [
    "def vectorToMatrixColumn(vector):\n",
    "    result = []\n",
    "    result.append(list(vector))\n",
    "    return result"
   ]
  },
  {
   "cell_type": "code",
   "execution_count": 31,
   "metadata": {},
   "outputs": [],
   "source": [
    "def ones_along_column(column):\n",
    "    return "
   ]
  },
  {
   "cell_type": "code",
   "execution_count": 32,
   "metadata": {},
   "outputs": [
    {
     "ename": "SyntaxError",
     "evalue": "invalid syntax (<ipython-input-32-e2fc465c1920>, line 6)",
     "output_type": "error",
     "traceback": [
      "\u001b[1;36m  File \u001b[1;32m\"<ipython-input-32-e2fc465c1920>\"\u001b[1;36m, line \u001b[1;32m6\u001b[0m\n\u001b[1;33m    A_dots =\u001b[0m\n\u001b[1;37m             ^\u001b[0m\n\u001b[1;31mSyntaxError\u001b[0m\u001b[1;31m:\u001b[0m invalid syntax\n"
     ]
    }
   ],
   "source": [
    "def distance_matrix_custom(A,B):\n",
    "    if(A[0].size != B[0].size):\n",
    "        print(\"different number of vector elements.\")\n",
    "    M = A.shape[0] # A.length\n",
    "    N = B.shape[0]\n",
    "    A_dots = "
   ]
  },
  {
   "cell_type": "code",
   "execution_count": 33,
   "metadata": {},
   "outputs": [
    {
     "data": {
      "text/plain": [
       "array([[ 10.    ,  18.    ,  18.    ,  52.    ,   2.    ,   0.    ,\n",
       "          0.    ,   0.    ,   0.    , 100.    ,  16.    ,  16.    ,\n",
       "         36.    ,  16.    ,  16.    ,   0.    ,   0.    ,  98.    ,\n",
       "          0.    ,   2.    ,  44.    ,  14.    ,  14.    ,  14.    ,\n",
       "         14.    ],\n",
       "       [ 10.0946,   5.67  ,  18.    ,  52.365 ,  13.564 ,   0.    ,\n",
       "         16.403 ,  16.403 ,  67.192 ,   0.    ,  19.242 ,  19.242 ,\n",
       "         23.028 ,  19.242 ,  19.242 ,  10.7255,  10.725 ,  62.776 ,\n",
       "          6.624 ,   9.148 ,  33.438 ,  15.457 ,  17.034 ,  17.034 ,\n",
       "         17.034 ],\n",
       "       [ 67.329 ,  11.363 ,  11.363 ,   0.    ,   9.943 ,  66.76  ,\n",
       "         11.079 ,  11.079 ,   5.39  ,   5.681 ,  14.77  ,  14.77  ,\n",
       "         40.909 ,  14.772 ,  14.772 ,  19.034 ,  19.034 ,  36.079 ,\n",
       "          9.94  ,  15.909 ,  32.67  ,  14.48  ,  17.61  ,  17.61  ,\n",
       "         17.61  ],\n",
       "       [  0.    ,   0.49  ,   0.    ,  98.039 ,   1.47  ,   0.    ,\n",
       "         25.    ,  25.    ,   1.96  ,  48.039 ,  17.156 ,  17.156 ,\n",
       "         31.372 ,  17.15  ,  17.51  ,  21.56  ,  21.078 ,   0.    ,\n",
       "         39.705 ,  17.64  ,  30.39  ,  14.7   ,  18.137 ,  18.627 ,\n",
       "         18.13  ],\n",
       "       [ 17.746 ,  22.4278,  26.83  ,   4.7   ,  28.19  ,  13.33  ,\n",
       "         24.93  ,  24.93  ,  13.28  ,  23.51  ,  21.55  ,  21.55  ,\n",
       "         13.77  ,  21.55  ,  21.55  ,  23.4   ,  23.4   ,  10.887 ,\n",
       "         23.843 ,  18.399 ,  14.497 ,  17.583 ,  22.59  ,  22.53  ,\n",
       "         22.59  ]])"
      ]
     },
     "execution_count": 33,
     "metadata": {},
     "output_type": "execute_result"
    }
   ],
   "source": [
    "data_true"
   ]
  },
  {
   "cell_type": "code",
   "execution_count": 34,
   "metadata": {},
   "outputs": [
    {
     "data": {
      "text/plain": [
       "(5, 2)"
      ]
     },
     "execution_count": 34,
     "metadata": {},
     "output_type": "execute_result"
    }
   ],
   "source": [
    "embedding = manifold.MDS(n_components=2, \\\n",
    "                         metric=True, \\\n",
    "                         n_init=1, \\\n",
    "                         max_iter=1, \\\n",
    "                         eps=1e-12, \\\n",
    "                         n_jobs=None, \\\n",
    "                         random_state=0, \\\n",
    "                         dissimilarity=\"euclidean\")\n",
    "data_transformed = embedding.fit_transform(data_true)\n",
    "data_transformed.shape"
   ]
  },
  {
   "cell_type": "code",
   "execution_count": 35,
   "metadata": {},
   "outputs": [
    {
     "data": {
      "text/plain": [
       "array([[  0.        , 131.36267158, 157.53797337, 139.31068338,\n",
       "        147.54915671],\n",
       "       [131.36267158,   0.        , 125.62852619, 121.77139511,\n",
       "        103.16795292],\n",
       "       [157.53797337, 125.62852619,   0.        , 153.09457234,\n",
       "         94.86863623],\n",
       "       [139.31068338, 121.77139511, 153.09457234,   0.        ,\n",
       "        113.70637518],\n",
       "       [147.54915671, 103.16795292,  94.86863623, 113.70637518,\n",
       "          0.        ]])"
      ]
     },
     "execution_count": 35,
     "metadata": {},
     "output_type": "execute_result"
    }
   ],
   "source": [
    "embedding.dissimilarity_matrix_"
   ]
  },
  {
   "cell_type": "code",
   "execution_count": 38,
   "metadata": {},
   "outputs": [
    {
     "data": {
      "text/plain": [
       "<matplotlib.lines.Line2D at 0x20962e9fb50>"
      ]
     },
     "execution_count": 38,
     "metadata": {},
     "output_type": "execute_result"
    },
    {
     "data": {
      "image/png": "[encoded data removed]",
      "text/plain": [
       "<Figure size 432x288 with 1 Axes>"
      ]
     },
     "metadata": {
      "needs_background": "light"
     },
     "output_type": "display_data"
    }
   ],
   "source": [
    "fig, ax = plt.subplots()\n",
    "ax.scatter(data_transformed[:, 0], data_transformed[:, 1], color='navy', s=100, lw=0, label='Transformed Position')\n",
    "ax.grid(True, which='both')\n",
    "ax.axhline(y=0, color='k')\n",
    "ax.axvline(x=0, color='k')"
   ]
  },
  {
   "cell_type": "code",
   "execution_count": 5,
   "metadata": {},
   "outputs": [],
   "source": [
    "from __future__ import division\n",
    "\n",
    "def cmdscale(D):\n",
    "    \"\"\"                                                                                       \n",
    "    Classical multidimensional scaling (MDS)                                                  \n",
    "                                                                                               \n",
    "    Parameters                                                                                \n",
    "    ----------                                                                                \n",
    "    D : (n, n) array                                                                          \n",
    "        Symmetric distance matrix.                                                            \n",
    "                                                                                               \n",
    "    Returns                                                                                   \n",
    "    -------                                                                                   \n",
    "    Y : (n, p) array                                                                          \n",
    "        Configuration matrix. Each column represents a dimension. Only the                    \n",
    "        p dimensions corresponding to positive eigenvalues of B are returned.                 \n",
    "        Note that each dimension is only determined up to an overall sign,                    \n",
    "        corresponding to a reflection.                                                        \n",
    "                                                                                               \n",
    "    e : (n,) array                                                                            \n",
    "        Eigenvalues of B.                                                                     \n",
    "                                                                                               \n",
    "    \"\"\"\n",
    "    # Number of points                                                                        \n",
    "    n = len(D)\n",
    " \n",
    "    # Centering matrix                                                                        \n",
    "    H = np.eye(n) - np.ones((n, n))/n\n",
    " \n",
    "    # YY^T                                                                                    \n",
    "    B = -H.dot(D**2).dot(H)/2\n",
    " \n",
    "    # print(B)\n",
    "    \n",
    "    # Diagonalize                                                                             \n",
    "    evals, evecs = np.linalg.eigh(B)\n",
    "    print(\"\\n\", evals)\n",
    "    print(\"\\n\", evecs)\n",
    " \n",
    "    # Sort by eigenvalue in descending order                                                  \n",
    "    idx   = np.argsort(evals)[::-1]\n",
    "    evals = evals[idx]\n",
    "    evecs = evecs[:,idx]\n",
    "    print(evals)\n",
    "    print(evecs)\n",
    " \n",
    "    # Compute the coordinates using positive-eigenvalued components only                      \n",
    "    w, = np.where(evals > 0)\n",
    "    L  = np.diag(np.sqrt(evals[w]))\n",
    "    V  = evecs[:,w]\n",
    "    Y  = V.dot(L)\n",
    " \n",
    "    return Y, evals"
   ]
  },
  {
   "cell_type": "code",
   "execution_count": 7,
   "metadata": {},
   "outputs": [
    {
     "data": {
      "text/plain": [
       "[[0, 548, 289, 576, 586],\n",
       " [548, 0, 493, 195, 392],\n",
       " [289, 493, 0, 427, 776],\n",
       " [576, 195, 427, 0, 577],\n",
       " [586, 392, 776, 577, 0]]"
      ]
     },
     "execution_count": 7,
     "metadata": {},
     "output_type": "execute_result"
    }
   ],
   "source": [
    "np.set_printoptions(threshold=np.inf)\n",
    "data = [ \\\n",
    "    [10,18,18,52,2,0,0,0,0,100,16,16,36,16,16,0,0,98,0,2,44,14,14,14,14], \\\n",
    "    [10.0946,5.67,18,52.365,13.564,0,16.403,16.403,67.192,0,19.242,19.242,23.028,19.242,19.242,10.7255,10.725,62.776,6.624,9.148,33.438,15.457,17.034,17.034,17.034], \\\n",
    "    [67.329,11.363,11.363,0,9.943,66.76,11.079,11.079,5.39,5.681,14.77,14.77,40.909,14.772,14.772,19.034,19.034,36.079,9.94,15.909,32.67,14.48,17.61,17.61,17.61], \\\n",
    "    [0,0.49,0,98.039,1.470,0,25,25,1.960,48.039,17.156,17.156,31.372,17.15,17.51,21.56,21.078,0,39.705,17.64,30.39,14.7,18.137,18.627,18.13], \\\n",
    "    [17.746,22.4278,26.83,4.7,28.19,13.33,24.93,24.93,13.28,23.51,21.55,21.55,13.77,21.55,21.55,23.4,23.4,10.887,23.843,18.399,14.497,17.583,22.59,22.53,22.59]]\n",
    "\n",
    "data = [\n",
    "    [0,548,289,576,586],\n",
    "    [548,0,493,195,392],\n",
    "    [289,493,0,427,776],\n",
    "    [576,195,427,0,577],\n",
    "    [586,392,776,577,0]\n",
    "]\n",
    "data"
   ]
  },
  {
   "cell_type": "code",
   "execution_count": 8,
   "metadata": {},
   "outputs": [
    {
     "name": "stdout",
     "output_type": "stream",
     "text": [
      "\n",
      " [-8.88120827e-11  3.12766463e+04  5.53753251e+04  4.80230287e+05\n",
      "  8.21296542e+05]\n",
      "\n",
      " [[ 0.4472136  -0.23130835 -0.5902466   0.43240117 -0.45949387]\n",
      " [ 0.4472136   0.6260342  -0.41942814 -0.36069287  0.31947124]\n",
      " [ 0.4472136   0.32389071  0.59647853 -0.08709331 -0.57595393]\n",
      " [ 0.4472136  -0.66871703  0.07518884 -0.57335237  0.13576164]\n",
      " [ 0.4472136  -0.04989952  0.33800737  0.58873738  0.58021492]]\n",
      "[ 8.21296542e+05  4.80230287e+05  5.53753251e+04  3.12766463e+04\n",
      " -8.88120827e-11]\n",
      "[[-0.45949387  0.43240117 -0.5902466  -0.23130835  0.4472136 ]\n",
      " [ 0.31947124 -0.36069287 -0.41942814  0.6260342   0.4472136 ]\n",
      " [-0.57595393 -0.08709331  0.59647853  0.32389071  0.4472136 ]\n",
      " [ 0.13576164 -0.57335237  0.07518884 -0.66871703  0.4472136 ]\n",
      " [ 0.58021492  0.58873738  0.33800737 -0.04989952  0.4472136 ]]\n"
     ]
    },
    {
     "data": {
      "text/plain": [
       "[[-416.41821915629083,\n",
       "  299.64817226659295,\n",
       "  -138.8966084774523,\n",
       "  -40.907355884422394],\n",
       " [289.5221298207779,\n",
       "  -249.95528567596986,\n",
       "  -98.6996718365375,\n",
       "  110.71542930434053],\n",
       " [-521.9606238880393,\n",
       "  -60.354484976879434,\n",
       "  140.36310287743584,\n",
       "  57.28073501800305],\n",
       " [123.03454449413752,\n",
       "  -397.3254536378739,\n",
       "  17.69341012700496,\n",
       "  -118.2639758787739],\n",
       " [525.8221687294146, 407.9870520241307, 79.53976730954972, -8.82483255914824]]"
      ]
     },
     "execution_count": 8,
     "metadata": {},
     "output_type": "execute_result"
    }
   ],
   "source": [
    "data_true = np.array(data)\n",
    "D = distance_matrix(data_true, data_true)\n",
    "data_scaled = cmdscale(D)[0]\n",
    "data_scaled[:].tolist()"
   ]
  },
  {
   "cell_type": "code",
   "execution_count": 9,
   "metadata": {},
   "outputs": [
    {
     "data": {
      "text/plain": [
       "<matplotlib.lines.Line2D at 0x1990600ee50>"
      ]
     },
     "execution_count": 9,
     "metadata": {},
     "output_type": "execute_result"
    },
    {
     "data": {
      "image/png": "[encoded data removed]",
      "text/plain": [
       "<Figure size 432x288 with 1 Axes>"
      ]
     },
     "metadata": {
      "needs_background": "light"
     },
     "output_type": "display_data"
    }
   ],
   "source": [
    "fig, ax = plt.subplots()\n",
    "ax.scatter(data_scaled[:, 0], data_scaled[:, 1], color='navy', s=100, lw=0, label='Transformed Position')\n",
    "ax.grid(True, which='both')\n",
    "ax.axhline(y=0, color='k')\n",
    "ax.axvline(x=0, color='k')"
   ]
  },
  {
   "cell_type": "code",
   "execution_count": 12,
   "metadata": {},
   "outputs": [
    {
     "data": {
      "text/plain": [
       "array([[-203.18600393,  269.50533465],\n",
       "       [ 147.7359528 , -148.06345119],\n",
       "       [-353.99640444,  -32.03109021],\n",
       "       [  15.78611067, -265.94192159],\n",
       "       [ 393.66034489,  176.53112834]])"
      ]
     },
     "execution_count": 12,
     "metadata": {},
     "output_type": "execute_result"
    }
   ],
   "source": [
    "# example = np.array([\n",
    "#   [ -81.13756442971577, 54.85927847163077 ],\n",
    "#   [ -0.13319894509308583, -3.5784739312083627 ],\n",
    "#   [ 71.75819515848391, 38.42978842966342 ],\n",
    "#   [ -32.89552297826373, -73.00412341098304 ],\n",
    "#   [ 42.40809119458864, -16.7064695591028 ]\n",
    "# ])\n",
    "\n",
    "example = np.array([\n",
    "  [ -203.1860039259252, 269.5053346524564 ],\n",
    "  [ 147.73595280226118, -148.06345119362106 ],\n",
    "  [ -353.9964044368162, -32.03109020849445 ],\n",
    "  [ 15.786110671884149, -265.94192158678277 ],\n",
    "  [ 393.6603448885961, 176.5311283364418 ]\n",
    "])\n",
    "example"
   ]
  },
  {
   "cell_type": "code",
   "execution_count": 13,
   "metadata": {},
   "outputs": [
    {
     "data": {
      "text/plain": [
       "<matplotlib.lines.Line2D at 0x199061186d0>"
      ]
     },
     "execution_count": 13,
     "metadata": {},
     "output_type": "execute_result"
    },
    {
     "data": {
      "image/png": "[encoded data removed]",
      "text/plain": [
       "<Figure size 432x288 with 1 Axes>"
      ]
     },
     "metadata": {
      "needs_background": "light"
     },
     "output_type": "display_data"
    }
   ],
   "source": [
    "fig, ax = plt.subplots()\n",
    "ax.scatter(example[:, 0], example[:, 1], color='navy', s=100, lw=0, label='Transformed Position')\n",
    "ax.grid(True, which='both')\n",
    "ax.axhline(y=0, color='k')\n",
    "ax.axvline(x=0, color='k')"
   ]
  },
  {
   "cell_type": "code",
   "execution_count": 30,
   "metadata": {},
   "outputs": [
    {
     "data": {
      "text/plain": [
       "array([ 81.13756443,   0.13319895, -71.75819516,  32.89552298,\n",
       "       -42.40809119])"
      ]
     },
     "execution_count": 30,
     "metadata": {},
     "output_type": "execute_result"
    }
   ],
   "source": [
    "data0 = np.array([\n",
    "  [ 81.1375644297158, 54.859278471630724 ],\n",
    "  [ 0.13319894509306301, -3.578473931208297 ],\n",
    "  [ -71.75819515848384, 38.42978842966346 ],\n",
    "  [ 32.895522978263685, -73.00412341098308 ],\n",
    "  [ -42.40809119458867, -16.706469559102775 ]\n",
    "])\n",
    "data0[:,0]"
   ]
  },
  {
   "cell_type": "code",
   "execution_count": 31,
   "metadata": {},
   "outputs": [
    {
     "data": {
      "text/plain": [
       "<matplotlib.lines.Line2D at 0x2da97869460>"
      ]
     },
     "execution_count": 31,
     "metadata": {},
     "output_type": "execute_result"
    },
    {
     "data": {
      "image/png": "[encoded data removed]",
      "text/plain": [
       "<Figure size 432x288 with 1 Axes>"
      ]
     },
     "metadata": {
      "needs_background": "light"
     },
     "output_type": "display_data"
    }
   ],
   "source": [
    "fig, ax = plt.subplots()\n",
    "ax.scatter(data0[:,0], data0[:, 1], color='navy', s=100, lw=0, label='Transformed Position')\n",
    "ax.grid(True, which='both')\n",
    "ax.axhline(y=0, color='k')\n",
    "ax.axvline(x=0, color='k')"
   ]
  },
  {
   "cell_type": "code",
   "execution_count": null,
   "metadata": {},
   "outputs": [],
   "source": []
  }
 ],
 "metadata": {
  "kernelspec": {
   "display_name": "Python 3",
   "language": "python",
   "name": "python3"
  },
  "language_info": {
   "codemirror_mode": {
    "name": "ipython",
    "version": 3
   },
   "file_extension": ".py",
   "mimetype": "text/x-python",
   "name": "python",
   "nbconvert_exporter": "python",
   "pygments_lexer": "ipython3",
   "version": "3.8.5"
  }
 },
 "nbformat": 4,
 "nbformat_minor": 4
}
