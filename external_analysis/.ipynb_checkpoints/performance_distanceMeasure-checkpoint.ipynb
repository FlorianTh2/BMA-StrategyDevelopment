{
 "cells": [
  {
   "cell_type": "code",
   "execution_count": 102,
   "metadata": {},
   "outputs": [
    {
     "data": {
      "text/plain": [
       "'0.23.2'"
      ]
     },
     "execution_count": 102,
     "metadata": {},
     "output_type": "execute_result"
    }
   ],
   "source": [
    "%matplotlib inline\n",
    "import sklearn\n",
    "from sklearn import manifold\n",
    "from sklearn import datasets\n",
    "from sklearn.utils.extmath import safe_sparse_dot\n",
    "import numpy as np\n",
    "import matplotlib\n",
    "from matplotlib import pyplot as plt\n",
    "from matplotlib.collections import LineCollection\n",
    "from sklearn.metrics import pairwise_distances_argmin\n",
    "import math\n",
    "import pandas as pd\n",
    "import random\n",
    "from sklearn.datasets.samples_generator import make_blobs\n",
    "from sklearn.cluster import KMeans\n",
    "from sklearn.preprocessing import MinMaxScaler\n",
    "from sklearn.preprocessing import StandardScaler\n",
    "from sklearn import metrics\n",
    "import os\n",
    "import time\n",
    "pd.__version__\n",
    "matplotlib.__version__\n",
    "np.__version__\n",
    "sklearn.__version__"
   ]
  },
  {
   "cell_type": "code",
   "execution_count": 201,
   "metadata": {},
   "outputs": [],
   "source": [
    "parentDir = \"results\"\n",
    "if not os.path.exists(parentDir):\n",
    "    os.mkdir(parentDir)"
   ]
  },
  {
   "cell_type": "code",
   "execution_count": 66,
   "metadata": {},
   "outputs": [],
   "source": [
    "def euclidean_distance(vector_0, vector_1):\n",
    "    total = 0\n",
    "    diff = 0\n",
    "    for a in range(len(vector_0)):\n",
    "        diff = vector_1[a] - vector_0[a]\n",
    "        total = total + diff * diff\n",
    "    return math.sqrt(total)"
   ]
  },
  {
   "cell_type": "code",
   "execution_count": 91,
   "metadata": {},
   "outputs": [],
   "source": [
    "def squared_euclidean_distance(vector_0, vector_1):\n",
    "    total = 0\n",
    "    diff = 0\n",
    "    for a in range(len(vector_0)):\n",
    "        diff = vector_1[a] - vector_0[a]\n",
    "        total = total + diff * diff\n",
    "    return total"
   ]
  },
  {
   "cell_type": "code",
   "execution_count": 140,
   "metadata": {},
   "outputs": [],
   "source": [
    "def chebyshev_distance(vector_0, vector_1):\n",
    "    currentMaxResult = abs(vector_1[0] - vector_0[0])\n",
    "    for a in range(1,len(vector_1)):\n",
    "        tmpResult = abs(vector_1[a] - vector_0[a])\n",
    "        if(currentMaxResult < tmpResult):\n",
    "            currentMaxResult = tmpResult\n",
    "    return currentMaxResult"
   ]
  },
  {
   "cell_type": "code",
   "execution_count": 141,
   "metadata": {},
   "outputs": [],
   "source": [
    "def manhatten_distance(vector_0, vector_1):\n",
    "    total = 0\n",
    "    diff = 0\n",
    "    for a in range(len(vector_0)):\n",
    "        diff = abs(vector_0[a] - vector_1[a])\n",
    "        total = total + diff\n",
    "    return total"
   ]
  },
  {
   "cell_type": "code",
   "execution_count": 27,
   "metadata": {},
   "outputs": [],
   "source": [
    "def generate_squared_matrix(row_column_number):\n",
    "    return np.linspace(0, 1000, row_column_number * row_column_number, endpoint=True).reshape(row_column_number,row_column_number)"
   ]
  },
  {
   "cell_type": "code",
   "execution_count": 60,
   "metadata": {},
   "outputs": [],
   "source": [
    "def generate_2d_dataset(row_number):\n",
    "    return np.linspace(0, 1000, row_number*2*2, endpoint=True).reshape(-1,2,2)"
   ]
  },
  {
   "cell_type": "code",
   "execution_count": 61,
   "metadata": {},
   "outputs": [
    {
     "data": {
      "text/plain": [
       "array([[[   0.        ,   52.63157895],\n",
       "        [ 105.26315789,  157.89473684]],\n",
       "\n",
       "       [[ 210.52631579,  263.15789474],\n",
       "        [ 315.78947368,  368.42105263]],\n",
       "\n",
       "       [[ 421.05263158,  473.68421053],\n",
       "        [ 526.31578947,  578.94736842]],\n",
       "\n",
       "       [[ 631.57894737,  684.21052632],\n",
       "        [ 736.84210526,  789.47368421]],\n",
       "\n",
       "       [[ 842.10526316,  894.73684211],\n",
       "        [ 947.36842105, 1000.        ]]])"
      ]
     },
     "execution_count": 61,
     "metadata": {},
     "output_type": "execute_result"
    }
   ],
   "source": [
    "generate_2d_dataset(5)"
   ]
  },
  {
   "cell_type": "code",
   "execution_count": 134,
   "metadata": {},
   "outputs": [],
   "source": [
    "def generate_sample_list(number_of_matrices, matrix_generator_function, step_range):\n",
    "    matrix_list = []\n",
    "    # step values has to be dividable by 2 since 2d_dataset tries to reshape(x,2)\n",
    "    # and that might not be possible otherwise\n",
    "    for a in range(0, number_of_matrices*step_range, step_range):\n",
    "        matrix_list.append(matrix_generator_function(a))\n",
    "    return matrix_list"
   ]
  },
  {
   "cell_type": "code",
   "execution_count": 135,
   "metadata": {},
   "outputs": [],
   "source": [
    "def calculate_distances(list_data_tuples, distance_measure):\n",
    "    # iterate over b number of data in the current benchmark a\n",
    "    for b in list_data_tuples:\n",
    "        distance_measure(b[0], b[1])"
   ]
  },
  {
   "cell_type": "code",
   "execution_count": 145,
   "metadata": {},
   "outputs": [],
   "source": [
    "def benchmark_distance_measure(benchmark_data, distance_measure):\n",
    "    benchmark_results = []\n",
    "    # iterate over the a individual benchmarks, each benchmark has b number of data\n",
    "    for list_data_tuples in benchmark_data:\n",
    "        start = time.time()\n",
    "        calculate_distances(list_data_tuples, distance_measure)\n",
    "        end = time.time()\n",
    "        benchmark_results.append([distance_measure.__name__, len(list_data_tuples), end-start])\n",
    "    return benchmark_results"
   ]
  },
  {
   "cell_type": "code",
   "execution_count": 193,
   "metadata": {},
   "outputs": [],
   "source": [
    "distance_function = [euclidean_distance, squared_euclidean_distance, chebyshev_distance, manhatten_distance]\n",
    "overall_results = []\n",
    "for function in distance_function:\n",
    "    benchmark_result = benchmark_distance_measure(generate_sample_list(21, generate_2d_dataset, 100000), function)\n",
    "    overall_results.append(benchmark_result)"
   ]
  },
  {
   "cell_type": "code",
   "execution_count": 194,
   "metadata": {},
   "outputs": [
    {
     "data": {
      "text/plain": [
       "[[['euclidean_distance', 0, 0.0],\n",
       "  ['euclidean_distance', 100000, 0.2688586711883545],\n",
       "  ['euclidean_distance', 200000, 0.49570369720458984],\n",
       "  ['euclidean_distance', 300000, 0.7755706310272217],\n",
       "  ['euclidean_distance', 400000, 1.0453901290893555],\n",
       "  ['euclidean_distance', 500000, 1.284266710281372],\n",
       "  ['euclidean_distance', 600000, 1.5321452617645264],\n",
       "  ['euclidean_distance', 700000, 1.7999672889709473],\n",
       "  ['euclidean_distance', 800000, 2.100787878036499],\n",
       "  ['euclidean_distance', 900000, 2.321673631668091],\n",
       "  ['euclidean_distance', 1000000, 2.5295703411102295]],\n",
       " [['squared_euclidean_distance', 0, 0.0],\n",
       "  ['squared_euclidean_distance', 100000, 0.2348635196685791],\n",
       "  ['squared_euclidean_distance', 200000, 0.4687323570251465],\n",
       "  ['squared_euclidean_distance', 300000, 0.701613187789917],\n",
       "  ['squared_euclidean_distance', 400000, 0.9384644031524658],\n",
       "  ['squared_euclidean_distance', 500000, 1.1693189144134521],\n",
       "  ['squared_euclidean_distance', 600000, 1.417191505432129],\n",
       "  ['squared_euclidean_distance', 700000, 1.6910483837127686],\n",
       "  ['squared_euclidean_distance', 800000, 1.9069135189056396],\n",
       "  ['squared_euclidean_distance', 900000, 2.1627635955810547],\n",
       "  ['squared_euclidean_distance', 1000000, 2.415607452392578]],\n",
       " [['chebyshev_distance', 0, 0.0],\n",
       "  ['chebyshev_distance', 100000, 0.1849040985107422],\n",
       "  ['chebyshev_distance', 200000, 0.36779046058654785],\n",
       "  ['chebyshev_distance', 300000, 0.5526704788208008],\n",
       "  ['chebyshev_distance', 400000, 0.7415776252746582],\n",
       "  ['chebyshev_distance', 500000, 0.9314675331115723],\n",
       "  ['chebyshev_distance', 600000, 1.1103663444519043],\n",
       "  ['chebyshev_distance', 700000, 1.3012762069702148],\n",
       "  ['chebyshev_distance', 800000, 1.4791371822357178],\n",
       "  ['chebyshev_distance', 900000, 1.686037302017212],\n",
       "  ['chebyshev_distance', 1000000, 1.8749301433563232]],\n",
       " [['manhatten_distance', 0, 0.0],\n",
       "  ['manhatten_distance', 100000, 0.2368619441986084],\n",
       "  ['manhatten_distance', 200000, 0.45975542068481445],\n",
       "  ['manhatten_distance', 300000, 0.6696131229400635],\n",
       "  ['manhatten_distance', 400000, 0.9864242076873779],\n",
       "  ['manhatten_distance', 500000, 1.189321517944336],\n",
       "  ['manhatten_distance', 600000, 1.407214641571045],\n",
       "  ['manhatten_distance', 700000, 1.6350486278533936],\n",
       "  ['manhatten_distance', 800000, 1.770989179611206],\n",
       "  ['manhatten_distance', 900000, 1.9489059448242188],\n",
       "  ['manhatten_distance', 1000000, 2.184734344482422]]]"
      ]
     },
     "execution_count": 194,
     "metadata": {},
     "output_type": "execute_result"
    }
   ],
   "source": [
    "overall_results"
   ]
  },
  {
   "cell_type": "code",
   "execution_count": 202,
   "metadata": {},
   "outputs": [
    {
     "data": {
      "image/png": "[encoded data removed]",
      "text/plain": [
       "<Figure size 432x288 with 1 Axes>"
      ]
     },
     "metadata": {
      "needs_background": "light"
     },
     "output_type": "display_data"
    }
   ],
   "source": [
    "df_tmp = pd.DataFrame({\"number_vectorpairs\": [tmp[1] for tmp in overall_results[0]]})\n",
    "\n",
    "fig = plt.figure()\n",
    "fig.suptitle('Distance graph for first distance function with result of max clusternumber')\n",
    "ax = fig.add_subplot(1,1,1)\n",
    "ax.set_xlabel('X')\n",
    "ax.set_ylabel('Y')\n",
    "# x scale is the same across all measures\n",
    "x = [tmp[1] for tmp in overall_results[0]]\n",
    "for a in overall_results:\n",
    "    y = [tmp[2] for tmp in a]\n",
    "    \n",
    "    df_tmp = df_tmp.join(pd.DataFrame({\"function_\" + a[0][0] + \"_y\": y}))\n",
    "    \n",
    "    ax.scatter(x,y)\n",
    "    ax.plot(x,y, label=a[0][0])\n",
    "plt.legend(loc=\"upper right\")\n",
    "plt.savefig('performance_distance_measure.pdf')\n",
    "df_tmp.to_csv(parentDir + \"/performance_distance_measure.csv\", sep=\"\\t\", encoding=\"utf-8\")"
   ]
  }
 ],
 "metadata": {
  "kernelspec": {
   "display_name": "Python 3",
   "language": "python",
   "name": "python3"
  },
  "language_info": {
   "codemirror_mode": {
    "name": "ipython",
    "version": 3
   },
   "file_extension": ".py",
   "mimetype": "text/x-python",
   "name": "python",
   "nbconvert_exporter": "python",
   "pygments_lexer": "ipython3",
   "version": "3.8.5"
  }
 },
 "nbformat": 4,
 "nbformat_minor": 4
}
