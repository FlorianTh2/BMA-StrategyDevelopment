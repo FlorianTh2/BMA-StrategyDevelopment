{
 "cells": [
  {
   "cell_type": "code",
   "execution_count": 1,
   "metadata": {},
   "outputs": [
    {
     "name": "stderr",
     "output_type": "stream",
     "text": [
      "C:\\Users\\Florian\\anaconda3\\lib\\site-packages\\sklearn\\utils\\deprecation.py:143: FutureWarning: The sklearn.datasets.samples_generator module is  deprecated in version 0.22 and will be removed in version 0.24. The corresponding classes / functions should instead be imported from sklearn.datasets. Anything that cannot be imported from sklearn.datasets is now part of the private API.\n",
      "  warnings.warn(message, FutureWarning)\n"
     ]
    },
    {
     "data": {
      "text/plain": [
       "'0.23.2'"
      ]
     },
     "execution_count": 1,
     "metadata": {},
     "output_type": "execute_result"
    }
   ],
   "source": [
    "%matplotlib inline\n",
    "import sklearn\n",
    "from sklearn import manifold\n",
    "from sklearn import datasets\n",
    "from sklearn.utils.extmath import safe_sparse_dot\n",
    "import numpy as np\n",
    "import matplotlib\n",
    "from matplotlib import pyplot as plt\n",
    "from matplotlib.collections import LineCollection\n",
    "from sklearn.metrics import pairwise_distances_argmin\n",
    "import math\n",
    "import pandas as pd\n",
    "import random\n",
    "from sklearn.datasets.samples_generator import make_blobs\n",
    "from sklearn.cluster import KMeans\n",
    "from sklearn.preprocessing import MinMaxScaler\n",
    "from sklearn.preprocessing import StandardScaler\n",
    "from sklearn import metrics\n",
    "import os\n",
    "import time\n",
    "pd.__version__\n",
    "matplotlib.__version__\n",
    "np.__version__\n",
    "sklearn.__version__"
   ]
  },
  {
   "cell_type": "code",
   "execution_count": 2,
   "metadata": {},
   "outputs": [],
   "source": [
    "parentDir = \"results\"\n",
    "if not os.path.exists(parentDir):\n",
    "    os.mkdir(parentDir)"
   ]
  },
  {
   "cell_type": "code",
   "execution_count": 3,
   "metadata": {},
   "outputs": [],
   "source": [
    "def euclidean_distance(vector_0, vector_1):\n",
    "    total = 0\n",
    "    diff = 0\n",
    "    for a in range(len(vector_0)):\n",
    "        diff = vector_1[a] - vector_0[a]\n",
    "        total = total + diff * diff\n",
    "    return math.sqrt(total)"
   ]
  },
  {
   "cell_type": "code",
   "execution_count": 4,
   "metadata": {},
   "outputs": [],
   "source": [
    "def squared_euclidean_distance(vector_0, vector_1):\n",
    "    total = 0\n",
    "    diff = 0\n",
    "    for a in range(len(vector_0)):\n",
    "        diff = vector_1[a] - vector_0[a]\n",
    "        total = total + diff * diff\n",
    "    return total"
   ]
  },
  {
   "cell_type": "code",
   "execution_count": 5,
   "metadata": {},
   "outputs": [],
   "source": [
    "def chebyshev_distance(vector_0, vector_1):\n",
    "    currentMaxResult = abs(vector_1[0] - vector_0[0])\n",
    "    for a in range(1,len(vector_1)):\n",
    "        tmpResult = abs(vector_1[a] - vector_0[a])\n",
    "        if(currentMaxResult < tmpResult):\n",
    "            currentMaxResult = tmpResult\n",
    "    return currentMaxResult"
   ]
  },
  {
   "cell_type": "code",
   "execution_count": 6,
   "metadata": {},
   "outputs": [],
   "source": [
    "def manhatten_distance(vector_0, vector_1):\n",
    "    total = 0\n",
    "    diff = 0\n",
    "    for a in range(len(vector_0)):\n",
    "        diff = abs(vector_0[a] - vector_1[a])\n",
    "        total = total + diff\n",
    "    return total"
   ]
  },
  {
   "cell_type": "code",
   "execution_count": 7,
   "metadata": {},
   "outputs": [],
   "source": [
    "def generate_squared_matrix(row_column_number):\n",
    "    return np.linspace(0, 1000, row_column_number * row_column_number, endpoint=True).reshape(row_column_number,row_column_number)"
   ]
  },
  {
   "cell_type": "code",
   "execution_count": 8,
   "metadata": {},
   "outputs": [],
   "source": [
    "def generate_2d_dataset(row_number):\n",
    "    return np.linspace(0, 1000, row_number*2*2, endpoint=True).reshape(-1,2,2)"
   ]
  },
  {
   "cell_type": "code",
   "execution_count": 9,
   "metadata": {},
   "outputs": [
    {
     "data": {
      "text/plain": [
       "array([[[   0.        ,   52.63157895],\n",
       "        [ 105.26315789,  157.89473684]],\n",
       "\n",
       "       [[ 210.52631579,  263.15789474],\n",
       "        [ 315.78947368,  368.42105263]],\n",
       "\n",
       "       [[ 421.05263158,  473.68421053],\n",
       "        [ 526.31578947,  578.94736842]],\n",
       "\n",
       "       [[ 631.57894737,  684.21052632],\n",
       "        [ 736.84210526,  789.47368421]],\n",
       "\n",
       "       [[ 842.10526316,  894.73684211],\n",
       "        [ 947.36842105, 1000.        ]]])"
      ]
     },
     "execution_count": 9,
     "metadata": {},
     "output_type": "execute_result"
    }
   ],
   "source": [
    "generate_2d_dataset(5)"
   ]
  },
  {
   "cell_type": "code",
   "execution_count": 10,
   "metadata": {},
   "outputs": [],
   "source": [
    "def generate_sample_list(number_of_matrices, matrix_generator_function, step_range):\n",
    "    matrix_list = []\n",
    "    # step values has to be dividable by 2 since 2d_dataset tries to reshape(x,2)\n",
    "    # and that might not be possible otherwise\n",
    "    for a in range(0, number_of_matrices*step_range, step_range):\n",
    "        matrix_list.append(matrix_generator_function(a))\n",
    "    return matrix_list"
   ]
  },
  {
   "cell_type": "code",
   "execution_count": 11,
   "metadata": {},
   "outputs": [],
   "source": [
    "def calculate_distances(list_data_tuples, distance_measure):\n",
    "    # iterate over b number of data in the current benchmark a\n",
    "    for b in list_data_tuples:\n",
    "        distance_measure(b[0], b[1])"
   ]
  },
  {
   "cell_type": "code",
   "execution_count": 12,
   "metadata": {},
   "outputs": [],
   "source": [
    "def benchmark_distance_measure(benchmark_data, distance_measure):\n",
    "    benchmark_results = []\n",
    "    # iterate over the a individual benchmarks, each benchmark has b number of data\n",
    "    for list_data_tuples in benchmark_data:\n",
    "        start = time.time()\n",
    "        calculate_distances(list_data_tuples, distance_measure)\n",
    "        end = time.time()\n",
    "        benchmark_results.append([distance_measure.__name__, len(list_data_tuples), end-start])\n",
    "    return benchmark_results"
   ]
  },
  {
   "cell_type": "code",
   "execution_count": 13,
   "metadata": {},
   "outputs": [],
   "source": [
    "distance_function = [euclidean_distance, squared_euclidean_distance, chebyshev_distance, manhatten_distance]\n",
    "overall_results = []\n",
    "for function in distance_function:\n",
    "    benchmark_result = benchmark_distance_measure(generate_sample_list(21, generate_2d_dataset, 100000), function)\n",
    "    overall_results.append(benchmark_result)"
   ]
  },
  {
   "cell_type": "code",
   "execution_count": 14,
   "metadata": {},
   "outputs": [
    {
     "data": {
      "text/plain": [
       "[[['euclidean_distance', 0, 0.0],\n",
       "  ['euclidean_distance', 100000, 0.27584052085876465],\n",
       "  ['euclidean_distance', 200000, 0.5197033882141113],\n",
       "  ['euclidean_distance', 300000, 0.8065502643585205],\n",
       "  ['euclidean_distance', 400000, 1.0963637828826904],\n",
       "  ['euclidean_distance', 500000, 1.3782131671905518],\n",
       "  ['euclidean_distance', 600000, 1.5850958824157715],\n",
       "  ['euclidean_distance', 700000, 1.8489580154418945],\n",
       "  ['euclidean_distance', 800000, 2.0738203525543213],\n",
       "  ['euclidean_distance', 900000, 2.3136613368988037],\n",
       "  ['euclidean_distance', 1000000, 2.5915348529815674],\n",
       "  ['euclidean_distance', 1100000, 2.8123812675476074],\n",
       "  ['euclidean_distance', 1200000, 3.1392085552215576],\n",
       "  ['euclidean_distance', 1300000, 3.3371083736419678],\n",
       "  ['euclidean_distance', 1400000, 3.5479798316955566],\n",
       "  ['euclidean_distance', 1500000, 3.7968146800994873],\n",
       "  ['euclidean_distance', 1600000, 4.121647834777832],\n",
       "  ['euclidean_distance', 1700000, 4.293549299240112],\n",
       "  ['euclidean_distance', 1800000, 4.699318170547485],\n",
       "  ['euclidean_distance', 1900000, 4.876232385635376],\n",
       "  ['euclidean_distance', 2000000, 5.078085660934448]],\n",
       " [['squared_euclidean_distance', 0, 0.0],\n",
       "  ['squared_euclidean_distance', 100000, 0.23285651206970215],\n",
       "  ['squared_euclidean_distance', 200000, 0.48171114921569824],\n",
       "  ['squared_euclidean_distance', 300000, 0.7145938873291016],\n",
       "  ['squared_euclidean_distance', 400000, 0.9574658870697021],\n",
       "  ['squared_euclidean_distance', 500000, 1.1973164081573486],\n",
       "  ['squared_euclidean_distance', 600000, 1.4041860103607178],\n",
       "  ['squared_euclidean_distance', 700000, 1.6450738906860352],\n",
       "  ['squared_euclidean_distance', 800000, 1.8929059505462646],\n",
       "  ['squared_euclidean_distance', 900000, 2.141777992248535],\n",
       "  ['squared_euclidean_distance', 1000000, 2.4046268463134766],\n",
       "  ['squared_euclidean_distance', 1100000, 2.569547176361084],\n",
       "  ['squared_euclidean_distance', 1200000, 2.7954044342041016],\n",
       "  ['squared_euclidean_distance', 1300000, 3.094233989715576],\n",
       "  ['squared_euclidean_distance', 1400000, 3.2441353797912598],\n",
       "  ['squared_euclidean_distance', 1500000, 3.5319976806640625],\n",
       "  ['squared_euclidean_distance', 1600000, 3.82780122756958],\n",
       "  ['squared_euclidean_distance', 1700000, 3.952744245529175],\n",
       "  ['squared_euclidean_distance', 1800000, 4.270562648773193],\n",
       "  ['squared_euclidean_distance', 1900000, 4.537425518035889],\n",
       "  ['squared_euclidean_distance', 2000000, 4.6733314990997314]],\n",
       " [['chebyshev_distance', 0, 0.0],\n",
       "  ['chebyshev_distance', 100000, 0.18189406394958496],\n",
       "  ['chebyshev_distance', 200000, 0.36980319023132324],\n",
       "  ['chebyshev_distance', 300000, 0.5516705513000488],\n",
       "  ['chebyshev_distance', 400000, 0.7385787963867188],\n",
       "  ['chebyshev_distance', 500000, 0.9204742908477783],\n",
       "  ['chebyshev_distance', 600000, 1.112365484237671],\n",
       "  ['chebyshev_distance', 700000, 1.2702882289886475],\n",
       "  ['chebyshev_distance', 800000, 1.4811410903930664],\n",
       "  ['chebyshev_distance', 900000, 1.697049856185913],\n",
       "  ['chebyshev_distance', 1000000, 1.906911849975586],\n",
       "  ['chebyshev_distance', 1100000, 2.1777517795562744],\n",
       "  ['chebyshev_distance', 1200000, 2.269704818725586],\n",
       "  ['chebyshev_distance', 1300000, 2.5365400314331055],\n",
       "  ['chebyshev_distance', 1400000, 2.8513894081115723],\n",
       "  ['chebyshev_distance', 1500000, 3.5789401531219482],\n",
       "  ['chebyshev_distance', 1600000, 3.8268158435821533],\n",
       "  ['chebyshev_distance', 1700000, 3.621946096420288],\n",
       "  ['chebyshev_distance', 1800000, 3.7663817405700684],\n",
       "  ['chebyshev_distance', 1900000, 3.8727622032165527],\n",
       "  ['chebyshev_distance', 2000000, 4.10017204284668]],\n",
       " [['manhatten_distance', 0, 0.0],\n",
       "  ['manhatten_distance', 100000, 0.23779678344726562],\n",
       "  ['manhatten_distance', 200000, 0.4790184497833252],\n",
       "  ['manhatten_distance', 300000, 0.7122321128845215],\n",
       "  ['manhatten_distance', 400000, 0.9728071689605713],\n",
       "  ['manhatten_distance', 500000, 1.265043020248413],\n",
       "  ['manhatten_distance', 600000, 1.4299330711364746],\n",
       "  ['manhatten_distance', 700000, 1.64719820022583],\n",
       "  ['manhatten_distance', 800000, 1.92588472366333],\n",
       "  ['manhatten_distance', 900000, 2.1749203205108643],\n",
       "  ['manhatten_distance', 1000000, 2.4561095237731934],\n",
       "  ['manhatten_distance', 1100000, 2.7479076385498047],\n",
       "  ['manhatten_distance', 1200000, 2.870227813720703],\n",
       "  ['manhatten_distance', 1300000, 3.0956804752349854],\n",
       "  ['manhatten_distance', 1400000, 3.388028144836426],\n",
       "  ['manhatten_distance', 1500000, 3.5854647159576416],\n",
       "  ['manhatten_distance', 1600000, 3.9046003818511963],\n",
       "  ['manhatten_distance', 1700000, 4.13804030418396],\n",
       "  ['manhatten_distance', 1800000, 4.342739105224609],\n",
       "  ['manhatten_distance', 1900000, 4.701094150543213],\n",
       "  ['manhatten_distance', 2000000, 4.821784019470215]]]"
      ]
     },
     "execution_count": 14,
     "metadata": {},
     "output_type": "execute_result"
    }
   ],
   "source": [
    "overall_results"
   ]
  },
  {
   "cell_type": "code",
   "execution_count": 15,
   "metadata": {},
   "outputs": [
    {
     "data": {
      "image/png": "[encoded data removed]",
      "text/plain": [
       "<Figure size 432x288 with 1 Axes>"
      ]
     },
     "metadata": {
      "needs_background": "light"
     },
     "output_type": "display_data"
    }
   ],
   "source": [
    "df_tmp = pd.DataFrame({\"number_vectorpairs\": [tmp[1] for tmp in overall_results[0]]})\n",
    "\n",
    "fig = plt.figure()\n",
    "fig.suptitle('Distance graph for first distance function with result of max clusternumber')\n",
    "ax = fig.add_subplot(1,1,1)\n",
    "ax.set_xlabel('X')\n",
    "ax.set_ylabel('Y')\n",
    "# x scale is the same across all measures\n",
    "x = [tmp[1] for tmp in overall_results[0]]\n",
    "for a in overall_results:\n",
    "    y = [tmp[2] for tmp in a]\n",
    "    \n",
    "    df_tmp = df_tmp.join(pd.DataFrame({\"function_\" + a[0][0] + \"_y\": y}))\n",
    "    \n",
    "    ax.scatter(x,y)\n",
    "    ax.plot(x,y, label=a[0][0])\n",
    "plt.legend(loc=\"upper right\")\n",
    "plt.savefig('performance_distance_measure.pdf')\n",
    "df_tmp.to_csv(parentDir + \"/performance_distance_measure.csv\", sep=\"\\t\", encoding=\"utf-8\")"
   ]
  }
 ],
 "metadata": {
  "kernelspec": {
   "display_name": "Python 3",
   "language": "python",
   "name": "python3"
  },
  "language_info": {
   "codemirror_mode": {
    "name": "ipython",
    "version": 3
   },
   "file_extension": ".py",
   "mimetype": "text/x-python",
   "name": "python",
   "nbconvert_exporter": "python",
   "pygments_lexer": "ipython3",
   "version": "3.8.5"
  }
 },
 "nbformat": 4,
 "nbformat_minor": 4
}
