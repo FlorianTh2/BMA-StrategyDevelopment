{
 "cells": [
  {
   "cell_type": "code",
   "execution_count": 1,
   "metadata": {},
   "outputs": [
    {
     "name": "stderr",
     "output_type": "stream",
     "text": [
      "C:\\Users\\Florian\\anaconda3\\lib\\site-packages\\sklearn\\utils\\deprecation.py:143: FutureWarning: The sklearn.datasets.samples_generator module is  deprecated in version 0.22 and will be removed in version 0.24. The corresponding classes / functions should instead be imported from sklearn.datasets. Anything that cannot be imported from sklearn.datasets is now part of the private API.\n",
      "  warnings.warn(message, FutureWarning)\n"
     ]
    },
    {
     "data": {
      "text/plain": [
       "'0.23.2'"
      ]
     },
     "execution_count": 1,
     "metadata": {},
     "output_type": "execute_result"
    }
   ],
   "source": [
    "%matplotlib inline\n",
    "import sklearn\n",
    "from sklearn import manifold\n",
    "from sklearn import datasets\n",
    "from sklearn.utils.extmath import safe_sparse_dot\n",
    "import numpy as np\n",
    "import matplotlib\n",
    "from matplotlib import pyplot as plt\n",
    "from matplotlib.collections import LineCollection\n",
    "from sklearn.metrics import pairwise_distances_argmin\n",
    "import math\n",
    "import pandas as pd\n",
    "import random\n",
    "from sklearn.datasets.samples_generator import make_blobs\n",
    "from sklearn.cluster import KMeans\n",
    "from sklearn.preprocessing import MinMaxScaler\n",
    "from sklearn.preprocessing import StandardScaler\n",
    "from sklearn import metrics\n",
    "import os\n",
    "import time\n",
    "pd.__version__\n",
    "matplotlib.__version__\n",
    "np.__version__\n",
    "sklearn.__version__"
   ]
  },
  {
   "cell_type": "code",
   "execution_count": 2,
   "metadata": {},
   "outputs": [],
   "source": [
    "parentDir = \"results\"\n",
    "if not os.path.exists(parentDir):\n",
    "    os.mkdir(parentDir)"
   ]
  },
  {
   "cell_type": "code",
   "execution_count": 3,
   "metadata": {},
   "outputs": [],
   "source": [
    "def euclidean_distance(vector_0, vector_1):\n",
    "    total = 0\n",
    "    diff = 0\n",
    "    for a in range(len(vector_0)):\n",
    "        diff = vector_1[a] - vector_0[a]\n",
    "        total = total + diff * diff\n",
    "    return math.sqrt(total)"
   ]
  },
  {
   "cell_type": "code",
   "execution_count": 4,
   "metadata": {},
   "outputs": [],
   "source": [
    "def squared_euclidean_distance(vector_0, vector_1):\n",
    "    total = 0\n",
    "    diff = 0\n",
    "    for a in range(len(vector_0)):\n",
    "        diff = vector_1[a] - vector_0[a]\n",
    "        total = total + diff * diff\n",
    "    return total"
   ]
  },
  {
   "cell_type": "code",
   "execution_count": 5,
   "metadata": {},
   "outputs": [],
   "source": [
    "def chebyshev_distance(vector_0, vector_1):\n",
    "    currentMaxResult = abs(vector_1[0] - vector_0[0])\n",
    "    for a in range(1,len(vector_1)):\n",
    "        tmpResult = abs(vector_1[a] - vector_0[a])\n",
    "        if(currentMaxResult < tmpResult):\n",
    "            currentMaxResult = tmpResult\n",
    "    return currentMaxResult"
   ]
  },
  {
   "cell_type": "code",
   "execution_count": 6,
   "metadata": {},
   "outputs": [],
   "source": [
    "def manhatten_distance(vector_0, vector_1):\n",
    "    total = 0\n",
    "    diff = 0\n",
    "    for a in range(len(vector_0)):\n",
    "        diff = abs(vector_0[a] - vector_1[a])\n",
    "        total = total + diff\n",
    "    return total"
   ]
  },
  {
   "cell_type": "code",
   "execution_count": 7,
   "metadata": {},
   "outputs": [],
   "source": [
    "def generate_squared_matrix(row_column_number):\n",
    "    return np.linspace(0, 1000, row_column_number * row_column_number, endpoint=True).reshape(row_column_number,row_column_number)"
   ]
  },
  {
   "cell_type": "code",
   "execution_count": 8,
   "metadata": {},
   "outputs": [],
   "source": [
    "def generate_2d_dataset(row_number):\n",
    "    return np.linspace(0, 1000, row_number*2*2, endpoint=True).reshape(-1,2,2)"
   ]
  },
  {
   "cell_type": "code",
   "execution_count": 9,
   "metadata": {},
   "outputs": [
    {
     "data": {
      "text/plain": [
       "array([[[   0.        ,   52.63157895],\n",
       "        [ 105.26315789,  157.89473684]],\n",
       "\n",
       "       [[ 210.52631579,  263.15789474],\n",
       "        [ 315.78947368,  368.42105263]],\n",
       "\n",
       "       [[ 421.05263158,  473.68421053],\n",
       "        [ 526.31578947,  578.94736842]],\n",
       "\n",
       "       [[ 631.57894737,  684.21052632],\n",
       "        [ 736.84210526,  789.47368421]],\n",
       "\n",
       "       [[ 842.10526316,  894.73684211],\n",
       "        [ 947.36842105, 1000.        ]]])"
      ]
     },
     "execution_count": 9,
     "metadata": {},
     "output_type": "execute_result"
    }
   ],
   "source": [
    "generate_2d_dataset(5)"
   ]
  },
  {
   "cell_type": "code",
   "execution_count": 10,
   "metadata": {},
   "outputs": [],
   "source": [
    "def generate_sample_list(number_of_matrices, matrix_generator_function, step_range):\n",
    "    matrix_list = []\n",
    "    # step values has to be dividable by 2 since 2d_dataset tries to reshape(x,2)\n",
    "    # and that might not be possible otherwise\n",
    "    for a in range(0, number_of_matrices*step_range, step_range):\n",
    "        matrix_list.append(matrix_generator_function(a))\n",
    "    return matrix_list"
   ]
  },
  {
   "cell_type": "code",
   "execution_count": 11,
   "metadata": {},
   "outputs": [],
   "source": [
    "def calculate_distances(list_data_tuples, distance_measure):\n",
    "    # iterate over b number of data in the current benchmark a\n",
    "    for b in list_data_tuples:\n",
    "        distance_measure(b[0], b[1])"
   ]
  },
  {
   "cell_type": "code",
   "execution_count": 12,
   "metadata": {},
   "outputs": [],
   "source": [
    "def benchmark_distance_measure(benchmark_data, distance_measure):\n",
    "    benchmark_results = []\n",
    "    # iterate over the a individual benchmarks, each benchmark has b number of data\n",
    "    for list_data_tuples in benchmark_data:\n",
    "        start = time.time()\n",
    "        calculate_distances(list_data_tuples, distance_measure)\n",
    "        end = time.time()\n",
    "        benchmark_results.append([distance_measure.__name__, len(list_data_tuples), end-start])\n",
    "    return benchmark_results"
   ]
  },
  {
   "cell_type": "code",
   "execution_count": 18,
   "metadata": {},
   "outputs": [],
   "source": [
    "distance_function = [euclidean_distance, squared_euclidean_distance, chebyshev_distance, manhatten_distance]\n",
    "overall_results = []\n",
    "for function in distance_function:\n",
    "    benchmark_result = benchmark_distance_measure(generate_sample_list(21, generate_2d_dataset, 100000), function)\n",
    "    overall_results.append(benchmark_result)"
   ]
  },
  {
   "cell_type": "code",
   "execution_count": 19,
   "metadata": {},
   "outputs": [
    {
     "data": {
      "text/plain": [
       "[[['euclidean_distance', 0, 0.0],\n",
       "  ['euclidean_distance', 100000, 0.26982569694519043],\n",
       "  ['euclidean_distance', 200000, 0.5347068309783936],\n",
       "  ['euclidean_distance', 300000, 0.8365199565887451],\n",
       "  ['euclidean_distance', 400000, 1.1703150272369385],\n",
       "  ['euclidean_distance', 500000, 1.3848021030426025],\n",
       "  ['euclidean_distance', 600000, 1.6740643978118896],\n",
       "  ['euclidean_distance', 700000, 1.9819624423980713],\n",
       "  ['euclidean_distance', 800000, 2.2740283012390137],\n",
       "  ['euclidean_distance', 900000, 2.5238661766052246],\n",
       "  ['euclidean_distance', 1000000, 2.857118844985962],\n",
       "  ['euclidean_distance', 1100000, 3.1673073768615723],\n",
       "  ['euclidean_distance', 1200000, 3.6223807334899902],\n",
       "  ['euclidean_distance', 1300000, 3.894120931625366],\n",
       "  ['euclidean_distance', 1400000, 4.1319544315338135],\n",
       "  ['euclidean_distance', 1500000, 4.221956968307495],\n",
       "  ['euclidean_distance', 1600000, 4.499501466751099],\n",
       "  ['euclidean_distance', 1700000, 4.528172731399536],\n",
       "  ['euclidean_distance', 1800000, 5.1125359535217285],\n",
       "  ['euclidean_distance', 1900000, 5.364304065704346],\n",
       "  ['euclidean_distance', 2000000, 5.292099952697754]],\n",
       " [['squared_euclidean_distance', 0, 0.0],\n",
       "  ['squared_euclidean_distance', 100000, 0.24390316009521484],\n",
       "  ['squared_euclidean_distance', 200000, 0.49677181243896484],\n",
       "  ['squared_euclidean_distance', 300000, 0.788567066192627],\n",
       "  ['squared_euclidean_distance', 400000, 0.9820525646209717],\n",
       "  ['squared_euclidean_distance', 500000, 1.227907419204712],\n",
       "  ['squared_euclidean_distance', 600000, 1.47890043258667],\n",
       "  ['squared_euclidean_distance', 700000, 1.762364387512207],\n",
       "  ['squared_euclidean_distance', 800000, 2.01788330078125],\n",
       "  ['squared_euclidean_distance', 900000, 2.34316086769104],\n",
       "  ['squared_euclidean_distance', 1000000, 2.4712300300598145],\n",
       "  ['squared_euclidean_distance', 1100000, 2.843432664871216],\n",
       "  ['squared_euclidean_distance', 1200000, 3.0598561763763428],\n",
       "  ['squared_euclidean_distance', 1300000, 3.348855972290039],\n",
       "  ['squared_euclidean_distance', 1400000, 3.5062527656555176],\n",
       "  ['squared_euclidean_distance', 1500000, 3.8913052082061768],\n",
       "  ['squared_euclidean_distance', 1600000, 4.031053304672241],\n",
       "  ['squared_euclidean_distance', 1700000, 4.19408106803894],\n",
       "  ['squared_euclidean_distance', 1800000, 4.470529794692993],\n",
       "  ['squared_euclidean_distance', 1900000, 4.638942003250122],\n",
       "  ['squared_euclidean_distance', 2000000, 4.881090879440308]],\n",
       " [['chebyshev_distance', 0, 0.0],\n",
       "  ['chebyshev_distance', 100000, 0.19144892692565918],\n",
       "  ['chebyshev_distance', 200000, 0.384784460067749],\n",
       "  ['chebyshev_distance', 300000, 0.5676844120025635],\n",
       "  ['chebyshev_distance', 400000, 0.7870972156524658],\n",
       "  ['chebyshev_distance', 500000, 0.9663081169128418],\n",
       "  ['chebyshev_distance', 600000, 1.1519758701324463],\n",
       "  ['chebyshev_distance', 700000, 1.3593485355377197],\n",
       "  ['chebyshev_distance', 800000, 1.54054856300354],\n",
       "  ['chebyshev_distance', 900000, 1.7582178115844727],\n",
       "  ['chebyshev_distance', 1000000, 1.9300363063812256],\n",
       "  ['chebyshev_distance', 1100000, 2.1366589069366455],\n",
       "  ['chebyshev_distance', 1200000, 2.326589584350586],\n",
       "  ['chebyshev_distance', 1300000, 2.524675130844116],\n",
       "  ['chebyshev_distance', 1400000, 2.6808431148529053],\n",
       "  ['chebyshev_distance', 1500000, 2.898615837097168],\n",
       "  ['chebyshev_distance', 1600000, 3.0955283641815186],\n",
       "  ['chebyshev_distance', 1700000, 3.258617877960205],\n",
       "  ['chebyshev_distance', 1800000, 3.4430737495422363],\n",
       "  ['chebyshev_distance', 1900000, 3.630930185317993],\n",
       "  ['chebyshev_distance', 2000000, 3.7830560207366943]],\n",
       " [['manhatten_distance', 0, 0.0],\n",
       "  ['manhatten_distance', 100000, 0.22290992736816406],\n",
       "  ['manhatten_distance', 200000, 0.44376587867736816],\n",
       "  ['manhatten_distance', 300000, 0.6610293388366699],\n",
       "  ['manhatten_distance', 400000, 0.8796846866607666],\n",
       "  ['manhatten_distance', 500000, 1.1159586906433105],\n",
       "  ['manhatten_distance', 600000, 1.333860158920288],\n",
       "  ['manhatten_distance', 700000, 1.586186170578003],\n",
       "  ['manhatten_distance', 800000, 1.7803115844726562],\n",
       "  ['manhatten_distance', 900000, 1.998589277267456],\n",
       "  ['manhatten_distance', 1000000, 2.1946728229522705],\n",
       "  ['manhatten_distance', 1100000, 2.4375498294830322],\n",
       "  ['manhatten_distance', 1200000, 2.7151761054992676],\n",
       "  ['manhatten_distance', 1300000, 2.9217350482940674],\n",
       "  ['manhatten_distance', 1400000, 3.084129571914673],\n",
       "  ['manhatten_distance', 1500000, 3.3275680541992188],\n",
       "  ['manhatten_distance', 1600000, 3.5198636054992676],\n",
       "  ['manhatten_distance', 1700000, 3.7692642211914062],\n",
       "  ['manhatten_distance', 1800000, 3.9775960445404053],\n",
       "  ['manhatten_distance', 1900000, 4.260055303573608],\n",
       "  ['manhatten_distance', 2000000, 4.410476922988892]]]"
      ]
     },
     "execution_count": 19,
     "metadata": {},
     "output_type": "execute_result"
    }
   ],
   "source": [
    "overall_results"
   ]
  },
  {
   "cell_type": "code",
   "execution_count": 20,
   "metadata": {},
   "outputs": [
    {
     "data": {
      "image/png": "[encoded data removed]",
      "text/plain": [
       "<Figure size 432x288 with 1 Axes>"
      ]
     },
     "metadata": {
      "needs_background": "light"
     },
     "output_type": "display_data"
    }
   ],
   "source": [
    "df_tmp = pd.DataFrame({\"number_vectorpairs\": [tmp[1] for tmp in overall_results[0]]})\n",
    "\n",
    "fig = plt.figure()\n",
    "fig.suptitle('Distance graph for first distance function with result of max clusternumber')\n",
    "ax = fig.add_subplot(1,1,1)\n",
    "ax.set_xlabel('X')\n",
    "ax.set_ylabel('Y')\n",
    "# x scale is the same across all measures\n",
    "x = [tmp[1] for tmp in overall_results[0]]\n",
    "for a in overall_results:\n",
    "    y = [tmp[2] for tmp in a]\n",
    "    \n",
    "    df_tmp = df_tmp.join(pd.DataFrame({\"function_\" + a[0][0] + \"_y\": y}))\n",
    "    \n",
    "    ax.scatter(x,y)\n",
    "    ax.plot(x,y, label=a[0][0])\n",
    "#plt.legend(loc=\"upper right\")\n",
    "plt.savefig('performance_distance_measure.pdf')\n",
    "df_tmp.to_csv(parentDir + \"/performance_distance_measure.csv\", sep=\"\\t\", encoding=\"utf-8\")"
   ]
  },
  {
   "cell_type": "code",
   "execution_count": null,
   "metadata": {},
   "outputs": [],
   "source": []
  }
 ],
 "metadata": {
  "kernelspec": {
   "display_name": "Python 3",
   "language": "python",
   "name": "python3"
  },
  "language_info": {
   "codemirror_mode": {
    "name": "ipython",
    "version": 3
   },
   "file_extension": ".py",
   "mimetype": "text/x-python",
   "name": "python",
   "nbconvert_exporter": "python",
   "pygments_lexer": "ipython3",
   "version": "3.8.5"
  }
 },
 "nbformat": 4,
 "nbformat_minor": 4
}
